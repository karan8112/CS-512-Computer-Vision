{
 "cells": [
  {
   "cell_type": "markdown",
   "metadata": {},
   "source": [
    "Name: Karan Bhatiya\n",
    "Student ID: A20424290\n",
    "Course Number: CS512\n",
    "Semester: Fall 18"
   ]
  },
  {
   "cell_type": "code",
   "execution_count": 49,
   "metadata": {},
   "outputs": [],
   "source": [
    "import numpy as np\n",
    "# A\n",
    "\n",
    "A = np.matrix([[1],[2],[3]])\n",
    "B = np.matrix([[4],[5],[6]])\n",
    "C = np.matrix([[-1],[1],[3]])"
   ]
  },
  {
   "cell_type": "code",
   "execution_count": 13,
   "metadata": {},
   "outputs": [
    {
     "name": "stdout",
     "output_type": "stream",
     "text": [
      "[[-2]\n",
      " [-1]\n",
      " [ 0]]\n"
     ]
    }
   ],
   "source": [
    "# A.1. 2A - B\n",
    "\n",
    "print(2*A - B)"
   ]
  },
  {
   "cell_type": "code",
   "execution_count": 26,
   "metadata": {},
   "outputs": [
    {
     "name": "stdout",
     "output_type": "stream",
     "text": [
      "(3.7416573867739413, 74.498640433063)\n"
     ]
    }
   ],
   "source": [
    "# A.2. ||A|| and the angle of A relative to the positive X axis\n",
    "\n",
    "modA = np.sqrt(A.item((0,0))*A.item((0,0)) + A.item((1,0))*A.item((1,0)) + A.item((2,0))*A.item((2,0)))\n",
    "rad = np.arccos(1/modA)\n",
    "deg = np.rad2deg(rad)\n",
    "print(modA, deg)\n"
   ]
  },
  {
   "cell_type": "code",
   "execution_count": 27,
   "metadata": {},
   "outputs": [
    {
     "name": "stdout",
     "output_type": "stream",
     "text": [
      "(0.2672612419124244, 0.5345224838248488, 0.8017837257372732)\n"
     ]
    }
   ],
   "source": [
    "# A.3. A, unit vector in the direction of A \n",
    "\n",
    "unitvector = (A.item((0,0))/modA, A.item((1,0))/modA, A.item((2,0))/modA)\n",
    "print(unitvector)"
   ]
  },
  {
   "cell_type": "code",
   "execution_count": 28,
   "metadata": {},
   "outputs": [
    {
     "name": "stdout",
     "output_type": "stream",
     "text": [
      "(74.498640433063, 57.688466762576155, 36.69922520048988)\n"
     ]
    }
   ],
   "source": [
    "# A.4. the direction cosine of A\n",
    "\n",
    "radx = np.arccos(A.item((0,0))/modA)\n",
    "rady = np.arccos(A.item((1,0))/modA)\n",
    "radz = np.arccos(A.item((2,0))/modA)\n",
    "\n",
    "print(np.rad2deg(radx), np.rad2deg(rady), np.rad2deg(radz))"
   ]
  },
  {
   "cell_type": "code",
   "execution_count": 24,
   "metadata": {},
   "outputs": [
    {
     "name": "stdout",
     "output_type": "stream",
     "text": [
      "(32, 32)\n"
     ]
    }
   ],
   "source": [
    "# A.5. A.B and B.A\n",
    "\n",
    "AB = A.item((0,0))*B.item((0,0)) + A.item((1,0))*B.item((1,0)) + A.item((2,0))*B.item((2,0))\n",
    "BA = B.item((0,0))*A.item((0,0)) + B.item((1,0))*A.item((1,0)) + B.item((2,0))*A.item((2,0))\n",
    "\n",
    "print(AB, BA)"
   ]
  },
  {
   "cell_type": "code",
   "execution_count": 29,
   "metadata": {},
   "outputs": [
    {
     "name": "stdout",
     "output_type": "stream",
     "text": [
      "12.933154491899135\n"
     ]
    }
   ],
   "source": [
    "# A.6 the angle between A and B\n",
    "\n",
    "modB = np.sqrt(B.item((0,0))*B.item((0,0)) + B.item((1,0))*B.item((1,0)) + B.item((2,0))*B.item((2,0)))\n",
    "cos = np.arccos(AB/(modA*modB))\n",
    "ang = np.rad2deg(cos)\n",
    "\n",
    "print(ang)\n"
   ]
  },
  {
   "cell_type": "code",
   "execution_count": 47,
   "metadata": {},
   "outputs": [
    {
     "name": "stdout",
     "output_type": "stream",
     "text": [
      "(array([-3,  6, -3]), array([ 3, -6,  3]))\n"
     ]
    }
   ],
   "source": [
    "# A.8. A*B and B*A\n",
    "\n",
    "A1 = [1,2,3]\n",
    "B1 = [4,5,6]\n",
    "ABcross = np.cross(A1, B1)\n",
    "BAcross = np.cross(B1, A1)\n",
    "\n",
    "print(ABcross, BAcross)"
   ]
  },
  {
   "cell_type": "code",
   "execution_count": 35,
   "metadata": {},
   "outputs": [
    {
     "name": "stdout",
     "output_type": "stream",
     "text": [
      "[-0.40824829  0.81649658 -0.40824829]\n"
     ]
    }
   ],
   "source": [
    "# A.9. A vector which is perpendicular to both A and B\n",
    "\n",
    "u = ABcross/(np.linalg.norm(ABcross))\n",
    "print(u)"
   ]
  },
  {
   "cell_type": "code",
   "execution_count": 39,
   "metadata": {},
   "outputs": [
    {
     "name": "stdout",
     "output_type": "stream",
     "text": [
      "[[ 1  4 -1]\n",
      " [ 2  5  1]\n",
      " [ 3  6  3]]\n",
      "1.9984014443252774e-15\n"
     ]
    }
   ],
   "source": [
    "# A.10. Linear dependency between A, B, C\n",
    "\n",
    "l = np.matrix([[1,4,-1],[2,5,1],[3,6,3]])\n",
    "print(l)\n",
    "lnorm = np.linalg.det(l)\n",
    "print(lnorm)"
   ]
  },
  {
   "cell_type": "code",
   "execution_count": 84,
   "metadata": {},
   "outputs": [
    {
     "name": "stdout",
     "output_type": "stream",
     "text": [
      "[[-4 13]\n",
      " [ 0  6]]\n",
      "[[-2  8]\n",
      " [ 2  4]]\n"
     ]
    }
   ],
   "source": [
    "# A.11. ATB and ABT\n",
    "\n",
    "AT = np.transpose(A)\n",
    "\n",
    "ATB = AT*(B)\n",
    "print(ATB)\n",
    "BT = np.transpose(B)\n",
    "\n",
    "ABT = A*(BT)\n",
    "\n",
    "print(ABT)"
   ]
  },
  {
   "cell_type": "code",
   "execution_count": 65,
   "metadata": {},
   "outputs": [
    {
     "name": "stdout",
     "output_type": "stream",
     "text": [
      "[[ 1  2  3]\n",
      " [ 4 -2  3]\n",
      " [ 0  5 -1]]\n",
      "[[ 1  2  1]\n",
      " [ 2  1 -4]\n",
      " [ 3 -2  1]]\n",
      "[[ 1  2  3]\n",
      " [ 4  5  6]\n",
      " [-1  1  3]]\n"
     ]
    }
   ],
   "source": [
    "#B\n",
    "\n",
    "A = np.matrix([[1,2,3],[4,-2,3],[0,5,-1]])\n",
    "B = np.matrix([[1,2,1],[2,1,-4],[3,-2,1]])\n",
    "C = np.matrix([[1,2,3],[4,5,6],[-1,1,3]])\n",
    "print(A)\n",
    "print(B)\n",
    "print(C)"
   ]
  },
  {
   "cell_type": "code",
   "execution_count": 55,
   "metadata": {},
   "outputs": [
    {
     "name": "stdout",
     "output_type": "stream",
     "text": [
      "[[ 1  2  5]\n",
      " [ 6 -5 10]\n",
      " [-3 12 -3]]\n"
     ]
    }
   ],
   "source": [
    "# B.1. 2A - B\n",
    "\n",
    "ans = 2*A - B\n",
    "print(ans)"
   ]
  },
  {
   "cell_type": "code",
   "execution_count": 56,
   "metadata": {},
   "outputs": [
    {
     "name": "stdout",
     "output_type": "stream",
     "text": [
      "[[ 14  -2  -4]\n",
      " [  9   0  15]\n",
      " [  7   7 -21]]\n",
      "[[  9   3   8]\n",
      " [  6 -18  13]\n",
      " [ -5  15   2]]\n"
     ]
    }
   ],
   "source": [
    "# B.2. AB and BA\n",
    "\n",
    "AB = A.dot(B)\n",
    "print(AB)\n",
    "BA = B.dot(A)\n",
    "print(BA)"
   ]
  },
  {
   "cell_type": "code",
   "execution_count": 59,
   "metadata": {},
   "outputs": [
    {
     "name": "stdout",
     "output_type": "stream",
     "text": [
      "[[ 14   9   7]\n",
      " [ -2   0   7]\n",
      " [ -4  15 -21]]\n",
      "[[ 14   9   7]\n",
      " [ -2   0   7]\n",
      " [ -4  15 -21]]\n"
     ]
    }
   ],
   "source": [
    "# B.3. (AB)T and BTAT\n",
    "\n",
    "ABtranspose = np.transpose(AB)\n",
    "print(ABtranspose)\n",
    "\n",
    "BT = np.transpose(B)\n",
    "AT = np.transpose(A)\n",
    "BtransposeAtranspose = BT.dot(AT)\n",
    "print(BtransposeAtranspose)"
   ]
  },
  {
   "cell_type": "code",
   "execution_count": 67,
   "metadata": {},
   "outputs": [
    {
     "name": "stdout",
     "output_type": "stream",
     "text": [
      "54.999999999999964\n",
      "7.494005416219837e-16\n"
     ]
    }
   ],
   "source": [
    "# B.4. |A| and |C|\n",
    "\n",
    "Adet = np.linalg.det(A)\n",
    "print(Adet)\n",
    "\n",
    "Cdet = np.linalg.det(C)\n",
    "print(Cdet)"
   ]
  },
  {
   "cell_type": "code",
   "execution_count": null,
   "metadata": {},
   "outputs": [],
   "source": [
    "# B.5. The matrix (A,B or C) in which the row vectors form an orthogonal\n"
   ]
  },
  {
   "cell_type": "code",
   "execution_count": 69,
   "metadata": {},
   "outputs": [
    {
     "name": "stdout",
     "output_type": "stream",
     "text": [
      "[[-0.23636364  0.30909091  0.21818182]\n",
      " [ 0.07272727 -0.01818182  0.16363636]\n",
      " [ 0.36363636 -0.09090909 -0.18181818]]\n",
      "[[ 0.16666667  0.0952381   0.21428571]\n",
      " [ 0.33333333  0.04761905 -0.14285714]\n",
      " [ 0.16666667 -0.19047619  0.07142857]]\n"
     ]
    }
   ],
   "source": [
    "# B.6. A^-1 and B^-1\n",
    "\n",
    "Ainv = np.linalg.inv(A)\n",
    "print(Ainv)\n",
    "Binv = np.linalg.inv(B)\n",
    "print(Binv)"
   ]
  },
  {
   "cell_type": "code",
   "execution_count": 70,
   "metadata": {},
   "outputs": [
    {
     "name": "stdout",
     "output_type": "stream",
     "text": [
      "[[1 2]\n",
      " [3 2]]\n",
      "[[ 2 -2]\n",
      " [-2  5]]\n"
     ]
    }
   ],
   "source": [
    "#C\n",
    "\n",
    "A = np.matrix([[1,2],[3,2]])\n",
    "B = np.matrix([[2,-2],[-2,5]])\n",
    "print(A)\n",
    "print(B)"
   ]
  },
  {
   "cell_type": "code",
   "execution_count": 81,
   "metadata": {},
   "outputs": [
    {
     "name": "stdout",
     "output_type": "stream",
     "text": [
      "[-1.  4.]\n",
      "[[-0.70710678 -0.5547002 ]\n",
      " [ 0.70710678 -0.83205029]]\n"
     ]
    }
   ],
   "source": [
    "# C.1. The eigenvalues and corresponding eigenvectors of A\n",
    "\n",
    "w, v= np.linalg.eig(A)\n",
    "print(w)\n",
    "print(v)"
   ]
  },
  {
   "cell_type": "code",
   "execution_count": 78,
   "metadata": {},
   "outputs": [
    {
     "name": "stdout",
     "output_type": "stream",
     "text": [
      "[[-1.0000000e+00 -4.4408921e-16]\n",
      " [ 0.0000000e+00  4.0000000e+00]]\n"
     ]
    }
   ],
   "source": [
    "# C.2. The matrix V^-1AV where V is composed of eigenvectors of A\n",
    "\n",
    "Vinv = np.linalg.inv(v)\n",
    "print(Vinv*A*v)"
   ]
  },
  {
   "cell_type": "code",
   "execution_count": 79,
   "metadata": {},
   "outputs": [
    {
     "name": "stdout",
     "output_type": "stream",
     "text": [
      "-0.196116135138\n"
     ]
    }
   ],
   "source": [
    "# C.3. Dot product between eigenvectors of A\n",
    "\n",
    "v1 = v.item((0,0))*v.item((0,1)) + v.item((1,0))*v.item((1,1))\n",
    "print(v1)"
   ]
  },
  {
   "cell_type": "code",
   "execution_count": 80,
   "metadata": {},
   "outputs": [
    {
     "name": "stdout",
     "output_type": "stream",
     "text": [
      "[1. 6.]\n",
      "[[-0.89442719  0.4472136 ]\n",
      " [-0.4472136  -0.89442719]]\n",
      "0.0\n"
     ]
    }
   ],
   "source": [
    "# C.4. Dot product between eigenvectors of B\n",
    "\n",
    "w, v= np.linalg.eig(B)\n",
    "print(w)\n",
    "print(v)\n",
    "v1 = v.item((0,0))*v.item((0,1)) + v.item((1,0))*v.item((1,1))\n",
    "print(v1)"
   ]
  }
 ],
 "metadata": {
  "kernelspec": {
   "display_name": "Python 2",
   "language": "python",
   "name": "python2"
  },
  "language_info": {
   "codemirror_mode": {
    "name": "ipython",
    "version": 2
   },
   "file_extension": ".py",
   "mimetype": "text/x-python",
   "name": "python",
   "nbconvert_exporter": "python",
   "pygments_lexer": "ipython2",
   "version": "2.7.15"
  }
 },
 "nbformat": 4,
 "nbformat_minor": 2
}
